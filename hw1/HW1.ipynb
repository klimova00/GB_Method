{
 "cells": [
  {
   "cell_type": "markdown",
   "id": "4718e48c",
   "metadata": {},
   "source": [
    "# Посмотреть документацию к API GitHub, разобраться как вывести список репозиториев для конкретного пользователя, сохранить JSON-вывод в файле *.json."
   ]
  },
  {
   "cell_type": "code",
   "execution_count": 2,
   "id": "926d8bde",
   "metadata": {},
   "outputs": [],
   "source": [
    "import requests\n",
    "import json"
   ]
  },
  {
   "cell_type": "code",
   "execution_count": 3,
   "id": "ad413429",
   "metadata": {},
   "outputs": [],
   "source": [
    "url = 'https://api.github.com'\n",
    "user='klimova00'"
   ]
  },
  {
   "cell_type": "code",
   "execution_count": 4,
   "id": "e945ca0e",
   "metadata": {},
   "outputs": [],
   "source": [
    "r = requests.get(f'{url}/users/{user}/repos')"
   ]
  },
  {
   "cell_type": "code",
   "execution_count": 5,
   "id": "2b856379",
   "metadata": {},
   "outputs": [],
   "source": [
    "with open('data.json', 'w') as f:\n",
    "    json.dump(r.json(), f)"
   ]
  },
  {
   "cell_type": "code",
   "execution_count": 6,
   "id": "929eeb86",
   "metadata": {},
   "outputs": [
    {
     "name": "stdout",
     "output_type": "stream",
     "text": [
      "atom\n",
      "LearningScalaMaterials\n",
      "Numpy-Matplotlib-Scikit-learn\n",
      "Python-\n",
      "Python_2_les\n",
      "Python_3_Less\n",
      "Python_4_les\n",
      "python_5_les\n",
      "python_6_les\n",
      "python_7_les\n",
      "python_8_les\n",
      "SQL\n"
     ]
    }
   ],
   "source": [
    "for i in r.json():\n",
    "    print(i['name'])"
   ]
  },
  {
   "cell_type": "markdown",
   "id": "d0462089",
   "metadata": {},
   "source": [
    "# 2. Работа будет состоять с недокументированным API. Нужно ввести релевантный запрос на сайте https://www.delivery-club.ru/search\n",
    "(а) из предложенных точек с помощью API найти долю (в %) с бесплатной и платной доставкой. Для каждой категории рассчитать среднюю минимальную стоимость заказа.\n",
    "(б) для каждой из категорий из пункта (а) рассчитать долю (в %) магазинов и ресторанов"
   ]
  },
  {
   "cell_type": "code",
   "execution_count": null,
   "id": "8626d9ac",
   "metadata": {},
   "outputs": [],
   "source": []
  }
 ],
 "metadata": {
  "kernelspec": {
   "display_name": "Python 3 (ipykernel)",
   "language": "python",
   "name": "python3"
  },
  "language_info": {
   "codemirror_mode": {
    "name": "ipython",
    "version": 3
   },
   "file_extension": ".py",
   "mimetype": "text/x-python",
   "name": "python",
   "nbconvert_exporter": "python",
   "pygments_lexer": "ipython3",
   "version": "3.10.5"
  }
 },
 "nbformat": 4,
 "nbformat_minor": 5
}
